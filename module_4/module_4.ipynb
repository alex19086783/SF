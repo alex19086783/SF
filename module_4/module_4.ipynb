{
 "cells": [
  {
   "cell_type": "code",
   "execution_count": 1,
   "metadata": {},
   "outputs": [],
   "source": [
    "import pandas as pd"
   ]
  },
  {
   "cell_type": "code",
   "execution_count": 2,
   "metadata": {},
   "outputs": [],
   "source": [
    "df = pd.read_csv('C:/users/student/GIT/module_4/project_4.csv')"
   ]
  },
  {
   "cell_type": "code",
   "execution_count": 3,
   "metadata": {},
   "outputs": [
    {
     "data": {
      "text/html": [
       "<div>\n",
       "<style scoped>\n",
       "    .dataframe tbody tr th:only-of-type {\n",
       "        vertical-align: middle;\n",
       "    }\n",
       "\n",
       "    .dataframe tbody tr th {\n",
       "        vertical-align: top;\n",
       "    }\n",
       "\n",
       "    .dataframe thead th {\n",
       "        text-align: right;\n",
       "    }\n",
       "</style>\n",
       "<table border=\"1\" class=\"dataframe\">\n",
       "  <thead>\n",
       "    <tr style=\"text-align: right;\">\n",
       "      <th></th>\n",
       "      <th>flight_id</th>\n",
       "      <th>departure</th>\n",
       "      <th>arrive</th>\n",
       "      <th>flight_revenue</th>\n",
       "      <th>passengers_amount</th>\n",
       "      <th>flight_time</th>\n",
       "      <th>model</th>\n",
       "      <th>seats_amount</th>\n",
       "    </tr>\n",
       "  </thead>\n",
       "  <tbody>\n",
       "    <tr>\n",
       "      <th>0</th>\n",
       "      <td>136119</td>\n",
       "      <td>Anapa</td>\n",
       "      <td>Moscow</td>\n",
       "      <td>214890000.0</td>\n",
       "      <td>113</td>\n",
       "      <td>1.683333</td>\n",
       "      <td>Boeing 737-300</td>\n",
       "      <td>130</td>\n",
       "    </tr>\n",
       "    <tr>\n",
       "      <th>1</th>\n",
       "      <td>136120</td>\n",
       "      <td>Anapa</td>\n",
       "      <td>Moscow</td>\n",
       "      <td>208702000.0</td>\n",
       "      <td>109</td>\n",
       "      <td>1.650000</td>\n",
       "      <td>Boeing 737-300</td>\n",
       "      <td>130</td>\n",
       "    </tr>\n",
       "    <tr>\n",
       "      <th>2</th>\n",
       "      <td>136122</td>\n",
       "      <td>Anapa</td>\n",
       "      <td>Moscow</td>\n",
       "      <td>186030000.0</td>\n",
       "      <td>97</td>\n",
       "      <td>1.666667</td>\n",
       "      <td>Boeing 737-300</td>\n",
       "      <td>130</td>\n",
       "    </tr>\n",
       "    <tr>\n",
       "      <th>3</th>\n",
       "      <td>136130</td>\n",
       "      <td>Anapa</td>\n",
       "      <td>Moscow</td>\n",
       "      <td>202358000.0</td>\n",
       "      <td>107</td>\n",
       "      <td>1.650000</td>\n",
       "      <td>Boeing 737-300</td>\n",
       "      <td>130</td>\n",
       "    </tr>\n",
       "    <tr>\n",
       "      <th>4</th>\n",
       "      <td>136131</td>\n",
       "      <td>Anapa</td>\n",
       "      <td>Moscow</td>\n",
       "      <td>235664000.0</td>\n",
       "      <td>124</td>\n",
       "      <td>1.650000</td>\n",
       "      <td>Boeing 737-300</td>\n",
       "      <td>130</td>\n",
       "    </tr>\n",
       "    <tr>\n",
       "      <th>...</th>\n",
       "      <td>...</td>\n",
       "      <td>...</td>\n",
       "      <td>...</td>\n",
       "      <td>...</td>\n",
       "      <td>...</td>\n",
       "      <td>...</td>\n",
       "      <td>...</td>\n",
       "      <td>...</td>\n",
       "    </tr>\n",
       "    <tr>\n",
       "      <th>175</th>\n",
       "      <td>136943</td>\n",
       "      <td>Anapa</td>\n",
       "      <td>Belgorod</td>\n",
       "      <td>71178600.0</td>\n",
       "      <td>94</td>\n",
       "      <td>0.833333</td>\n",
       "      <td>Sukhoi Superjet-100</td>\n",
       "      <td>97</td>\n",
       "    </tr>\n",
       "    <tr>\n",
       "      <th>176</th>\n",
       "      <td>136951</td>\n",
       "      <td>Anapa</td>\n",
       "      <td>Belgorod</td>\n",
       "      <td>69898200.0</td>\n",
       "      <td>90</td>\n",
       "      <td>0.816667</td>\n",
       "      <td>Sukhoi Superjet-100</td>\n",
       "      <td>97</td>\n",
       "    </tr>\n",
       "    <tr>\n",
       "      <th>177</th>\n",
       "      <td>136953</td>\n",
       "      <td>Anapa</td>\n",
       "      <td>Belgorod</td>\n",
       "      <td>74234100.0</td>\n",
       "      <td>97</td>\n",
       "      <td>0.833333</td>\n",
       "      <td>Sukhoi Superjet-100</td>\n",
       "      <td>97</td>\n",
       "    </tr>\n",
       "    <tr>\n",
       "      <th>178</th>\n",
       "      <td>136956</td>\n",
       "      <td>Anapa</td>\n",
       "      <td>Belgorod</td>\n",
       "      <td>72400800.0</td>\n",
       "      <td>96</td>\n",
       "      <td>0.833333</td>\n",
       "      <td>Sukhoi Superjet-100</td>\n",
       "      <td>97</td>\n",
       "    </tr>\n",
       "    <tr>\n",
       "      <th>179</th>\n",
       "      <td>136961</td>\n",
       "      <td>Anapa</td>\n",
       "      <td>Belgorod</td>\n",
       "      <td>73623000.0</td>\n",
       "      <td>96</td>\n",
       "      <td>0.816667</td>\n",
       "      <td>Sukhoi Superjet-100</td>\n",
       "      <td>97</td>\n",
       "    </tr>\n",
       "  </tbody>\n",
       "</table>\n",
       "<p>180 rows × 8 columns</p>\n",
       "</div>"
      ],
      "text/plain": [
       "     flight_id departure    arrive  flight_revenue  passengers_amount  \\\n",
       "0       136119     Anapa    Moscow     214890000.0                113   \n",
       "1       136120     Anapa    Moscow     208702000.0                109   \n",
       "2       136122     Anapa    Moscow     186030000.0                 97   \n",
       "3       136130     Anapa    Moscow     202358000.0                107   \n",
       "4       136131     Anapa    Moscow     235664000.0                124   \n",
       "..         ...       ...       ...             ...                ...   \n",
       "175     136943     Anapa  Belgorod      71178600.0                 94   \n",
       "176     136951     Anapa  Belgorod      69898200.0                 90   \n",
       "177     136953     Anapa  Belgorod      74234100.0                 97   \n",
       "178     136956     Anapa  Belgorod      72400800.0                 96   \n",
       "179     136961     Anapa  Belgorod      73623000.0                 96   \n",
       "\n",
       "     flight_time                model  seats_amount  \n",
       "0       1.683333       Boeing 737-300           130  \n",
       "1       1.650000       Boeing 737-300           130  \n",
       "2       1.666667       Boeing 737-300           130  \n",
       "3       1.650000       Boeing 737-300           130  \n",
       "4       1.650000       Boeing 737-300           130  \n",
       "..           ...                  ...           ...  \n",
       "175     0.833333  Sukhoi Superjet-100            97  \n",
       "176     0.816667  Sukhoi Superjet-100            97  \n",
       "177     0.833333  Sukhoi Superjet-100            97  \n",
       "178     0.833333  Sukhoi Superjet-100            97  \n",
       "179     0.816667  Sukhoi Superjet-100            97  \n",
       "\n",
       "[180 rows x 8 columns]"
      ]
     },
     "execution_count": 3,
     "metadata": {},
     "output_type": "execute_result"
    }
   ],
   "source": [
    "df"
   ]
  },
  {
   "cell_type": "code",
   "execution_count": 4,
   "metadata": {},
   "outputs": [
    {
     "name": "stdout",
     "output_type": "stream",
     "text": [
      "<class 'pandas.core.frame.DataFrame'>\n",
      "RangeIndex: 180 entries, 0 to 179\n",
      "Data columns (total 8 columns):\n",
      " #   Column             Non-Null Count  Dtype  \n",
      "---  ------             --------------  -----  \n",
      " 0   flight_id          180 non-null    int64  \n",
      " 1   departure          180 non-null    object \n",
      " 2   arrive             180 non-null    object \n",
      " 3   flight_revenue     180 non-null    float64\n",
      " 4   passengers_amount  180 non-null    int64  \n",
      " 5   flight_time        180 non-null    float64\n",
      " 6   model              180 non-null    object \n",
      " 7   seats_amount       180 non-null    int64  \n",
      "dtypes: float64(2), int64(3), object(3)\n",
      "memory usage: 11.4+ KB\n"
     ]
    }
   ],
   "source": [
    "df.info()"
   ]
  },
  {
   "cell_type": "markdown",
   "metadata": {},
   "source": [
    "### Исследуем наши данные"
   ]
  },
  {
   "cell_type": "code",
   "execution_count": 5,
   "metadata": {},
   "outputs": [
    {
     "data": {
      "text/plain": [
       "Belgorod    90\n",
       "Moscow      90\n",
       "Name: arrive, dtype: int64"
      ]
     },
     "execution_count": 5,
     "metadata": {},
     "output_type": "execute_result"
    }
   ],
   "source": [
    "# посмотрим в какие города летают рейсы из Анапы в зимнее время\n",
    "df.arrive.value_counts()"
   ]
  },
  {
   "cell_type": "markdown",
   "metadata": {},
   "source": [
    "Видим что распределение по направлениям равномерное."
   ]
  },
  {
   "cell_type": "markdown",
   "metadata": {},
   "source": [
    "Для более удобного и правильного исследования разделим dataframe на 2 (по направлениям)"
   ]
  },
  {
   "cell_type": "code",
   "execution_count": 43,
   "metadata": {},
   "outputs": [],
   "source": [
    "df_1 = df[df.arrive == 'Moscow']\n",
    "df_2 = df[df.arrive == 'Belgorod']"
   ]
  },
  {
   "cell_type": "markdown",
   "metadata": {},
   "source": [
    "### Рассмотрим рейсы на Москву"
   ]
  },
  {
   "cell_type": "code",
   "execution_count": 44,
   "metadata": {},
   "outputs": [
    {
     "data": {
      "text/html": [
       "<div>\n",
       "<style scoped>\n",
       "    .dataframe tbody tr th:only-of-type {\n",
       "        vertical-align: middle;\n",
       "    }\n",
       "\n",
       "    .dataframe tbody tr th {\n",
       "        vertical-align: top;\n",
       "    }\n",
       "\n",
       "    .dataframe thead th {\n",
       "        text-align: right;\n",
       "    }\n",
       "</style>\n",
       "<table border=\"1\" class=\"dataframe\">\n",
       "  <thead>\n",
       "    <tr style=\"text-align: right;\">\n",
       "      <th></th>\n",
       "      <th>flight_id</th>\n",
       "      <th>departure</th>\n",
       "      <th>arrive</th>\n",
       "      <th>flight_revenue</th>\n",
       "      <th>passengers_amount</th>\n",
       "      <th>flight_time</th>\n",
       "      <th>model</th>\n",
       "      <th>seats_amount</th>\n",
       "    </tr>\n",
       "  </thead>\n",
       "  <tbody>\n",
       "    <tr>\n",
       "      <th>0</th>\n",
       "      <td>136119</td>\n",
       "      <td>Anapa</td>\n",
       "      <td>Moscow</td>\n",
       "      <td>214890000.0</td>\n",
       "      <td>113</td>\n",
       "      <td>1.683333</td>\n",
       "      <td>Boeing 737-300</td>\n",
       "      <td>130</td>\n",
       "    </tr>\n",
       "    <tr>\n",
       "      <th>1</th>\n",
       "      <td>136120</td>\n",
       "      <td>Anapa</td>\n",
       "      <td>Moscow</td>\n",
       "      <td>208702000.0</td>\n",
       "      <td>109</td>\n",
       "      <td>1.650000</td>\n",
       "      <td>Boeing 737-300</td>\n",
       "      <td>130</td>\n",
       "    </tr>\n",
       "    <tr>\n",
       "      <th>2</th>\n",
       "      <td>136122</td>\n",
       "      <td>Anapa</td>\n",
       "      <td>Moscow</td>\n",
       "      <td>186030000.0</td>\n",
       "      <td>97</td>\n",
       "      <td>1.666667</td>\n",
       "      <td>Boeing 737-300</td>\n",
       "      <td>130</td>\n",
       "    </tr>\n",
       "    <tr>\n",
       "      <th>3</th>\n",
       "      <td>136130</td>\n",
       "      <td>Anapa</td>\n",
       "      <td>Moscow</td>\n",
       "      <td>202358000.0</td>\n",
       "      <td>107</td>\n",
       "      <td>1.650000</td>\n",
       "      <td>Boeing 737-300</td>\n",
       "      <td>130</td>\n",
       "    </tr>\n",
       "    <tr>\n",
       "      <th>4</th>\n",
       "      <td>136131</td>\n",
       "      <td>Anapa</td>\n",
       "      <td>Moscow</td>\n",
       "      <td>235664000.0</td>\n",
       "      <td>124</td>\n",
       "      <td>1.650000</td>\n",
       "      <td>Boeing 737-300</td>\n",
       "      <td>130</td>\n",
       "    </tr>\n",
       "    <tr>\n",
       "      <th>...</th>\n",
       "      <td>...</td>\n",
       "      <td>...</td>\n",
       "      <td>...</td>\n",
       "      <td>...</td>\n",
       "      <td>...</td>\n",
       "      <td>...</td>\n",
       "      <td>...</td>\n",
       "      <td>...</td>\n",
       "    </tr>\n",
       "    <tr>\n",
       "      <th>85</th>\n",
       "      <td>136479</td>\n",
       "      <td>Anapa</td>\n",
       "      <td>Moscow</td>\n",
       "      <td>225992000.0</td>\n",
       "      <td>122</td>\n",
       "      <td>1.650000</td>\n",
       "      <td>Boeing 737-300</td>\n",
       "      <td>130</td>\n",
       "    </tr>\n",
       "    <tr>\n",
       "      <th>86</th>\n",
       "      <td>136485</td>\n",
       "      <td>Anapa</td>\n",
       "      <td>Moscow</td>\n",
       "      <td>197600000.0</td>\n",
       "      <td>106</td>\n",
       "      <td>1.666667</td>\n",
       "      <td>Boeing 737-300</td>\n",
       "      <td>130</td>\n",
       "    </tr>\n",
       "    <tr>\n",
       "      <th>87</th>\n",
       "      <td>136486</td>\n",
       "      <td>Anapa</td>\n",
       "      <td>Moscow</td>\n",
       "      <td>195702000.0</td>\n",
       "      <td>107</td>\n",
       "      <td>1.683333</td>\n",
       "      <td>Boeing 737-300</td>\n",
       "      <td>130</td>\n",
       "    </tr>\n",
       "    <tr>\n",
       "      <th>88</th>\n",
       "      <td>136491</td>\n",
       "      <td>Anapa</td>\n",
       "      <td>Moscow</td>\n",
       "      <td>195702000.0</td>\n",
       "      <td>103</td>\n",
       "      <td>1.683333</td>\n",
       "      <td>Boeing 737-300</td>\n",
       "      <td>130</td>\n",
       "    </tr>\n",
       "    <tr>\n",
       "      <th>89</th>\n",
       "      <td>136492</td>\n",
       "      <td>Anapa</td>\n",
       "      <td>Moscow</td>\n",
       "      <td>219804000.0</td>\n",
       "      <td>118</td>\n",
       "      <td>1.666667</td>\n",
       "      <td>Boeing 737-300</td>\n",
       "      <td>130</td>\n",
       "    </tr>\n",
       "  </tbody>\n",
       "</table>\n",
       "<p>90 rows × 8 columns</p>\n",
       "</div>"
      ],
      "text/plain": [
       "    flight_id departure  arrive  flight_revenue  passengers_amount  \\\n",
       "0      136119     Anapa  Moscow     214890000.0                113   \n",
       "1      136120     Anapa  Moscow     208702000.0                109   \n",
       "2      136122     Anapa  Moscow     186030000.0                 97   \n",
       "3      136130     Anapa  Moscow     202358000.0                107   \n",
       "4      136131     Anapa  Moscow     235664000.0                124   \n",
       "..        ...       ...     ...             ...                ...   \n",
       "85     136479     Anapa  Moscow     225992000.0                122   \n",
       "86     136485     Anapa  Moscow     197600000.0                106   \n",
       "87     136486     Anapa  Moscow     195702000.0                107   \n",
       "88     136491     Anapa  Moscow     195702000.0                103   \n",
       "89     136492     Anapa  Moscow     219804000.0                118   \n",
       "\n",
       "    flight_time           model  seats_amount  \n",
       "0      1.683333  Boeing 737-300           130  \n",
       "1      1.650000  Boeing 737-300           130  \n",
       "2      1.666667  Boeing 737-300           130  \n",
       "3      1.650000  Boeing 737-300           130  \n",
       "4      1.650000  Boeing 737-300           130  \n",
       "..          ...             ...           ...  \n",
       "85     1.650000  Boeing 737-300           130  \n",
       "86     1.666667  Boeing 737-300           130  \n",
       "87     1.683333  Boeing 737-300           130  \n",
       "88     1.683333  Boeing 737-300           130  \n",
       "89     1.666667  Boeing 737-300           130  \n",
       "\n",
       "[90 rows x 8 columns]"
      ]
     },
     "execution_count": 44,
     "metadata": {},
     "output_type": "execute_result"
    }
   ],
   "source": [
    "df_1"
   ]
  },
  {
   "cell_type": "code",
   "execution_count": 45,
   "metadata": {},
   "outputs": [
    {
     "data": {
      "text/plain": [
       "<AxesSubplot:>"
      ]
     },
     "execution_count": 45,
     "metadata": {},
     "output_type": "execute_result"
    },
    {
     "data": {
      "image/png": "[encoded data removed]",
      "text/plain": [
       "<Figure size 432x288 with 1 Axes>"
      ]
     },
     "metadata": {
      "needs_background": "light"
     },
     "output_type": "display_data"
    }
   ],
   "source": [
    "# посмотрим на выручку с продажи билетов\n",
    "df_1.flight_revenue.hist()"
   ]
  },
  {
   "cell_type": "code",
   "execution_count": 46,
   "metadata": {},
   "outputs": [
    {
     "data": {
      "text/plain": [
       "<AxesSubplot:>"
      ]
     },
     "execution_count": 46,
     "metadata": {},
     "output_type": "execute_result"
    },
    {
     "data": {
      "image/png": "[encoded data removed]",
      "text/plain": [
       "<Figure size 432x288 with 1 Axes>"
      ]
     },
     "metadata": {
      "needs_background": "light"
     },
     "output_type": "display_data"
    }
   ],
   "source": [
    "# посмотрим на количество пассажиров на рейсах\n",
    "df_1.passengers_amount.hist()"
   ]
  },
  {
   "cell_type": "code",
   "execution_count": 47,
   "metadata": {},
   "outputs": [
    {
     "data": {
      "text/plain": [
       "<AxesSubplot:>"
      ]
     },
     "execution_count": 47,
     "metadata": {},
     "output_type": "execute_result"
    },
    {
     "data": {
      "image/png": "[encoded data removed]",
      "text/plain": [
       "<Figure size 432x288 with 1 Axes>"
      ]
     },
     "metadata": {
      "needs_background": "light"
     },
     "output_type": "display_data"
    }
   ],
   "source": [
    "# посмотрим на время полёта\n",
    "df_1.flight_time.hist()"
   ]
  },
  {
   "cell_type": "code",
   "execution_count": 48,
   "metadata": {},
   "outputs": [
    {
     "data": {
      "text/plain": [
       "Boeing 737-300    90\n",
       "Name: model, dtype: int64"
      ]
     },
     "execution_count": 48,
     "metadata": {},
     "output_type": "execute_result"
    }
   ],
   "source": [
    "# посмотрим на модели самолётов, летающих по данному направлению\n",
    "df_1.model.value_counts()"
   ]
  },
  {
   "cell_type": "markdown",
   "metadata": {},
   "source": [
    "Как видим, очевидных выборосов в данных нет"
   ]
  },
  {
   "cell_type": "markdown",
   "metadata": {},
   "source": [
    "#### Добавим данные по расходам на топливо"
   ]
  },
  {
   "cell_type": "code",
   "execution_count": 49,
   "metadata": {},
   "outputs": [
    {
     "name": "stderr",
     "output_type": "stream",
     "text": [
      "<ipython-input-49-91049324f93c>:3: SettingWithCopyWarning: \n",
      "A value is trying to be set on a copy of a slice from a DataFrame.\n",
      "Try using .loc[row_indexer,col_indexer] = value instead\n",
      "\n",
      "See the caveats in the documentation: https://pandas.pydata.org/pandas-docs/stable/user_guide/indexing.html#returning-a-view-versus-a-copy\n",
      "  df_1['fuel_per_hour'] = 2600\n"
     ]
    }
   ],
   "source": [
    "# создадим столбец с расходом топлива\n",
    "# для данной модели самолёта расход составляет 2600 кг/ч\n",
    "df_1['fuel_per_hour'] = 2600"
   ]
  },
  {
   "cell_type": "code",
   "execution_count": 50,
   "metadata": {},
   "outputs": [
    {
     "name": "stderr",
     "output_type": "stream",
     "text": [
      "<ipython-input-50-a5f910be2577>:2: SettingWithCopyWarning: \n",
      "A value is trying to be set on a copy of a slice from a DataFrame.\n",
      "Try using .loc[row_indexer,col_indexer] = value instead\n",
      "\n",
      "See the caveats in the documentation: https://pandas.pydata.org/pandas-docs/stable/user_guide/indexing.html#returning-a-view-versus-a-copy\n",
      "  df_1['consumed_fuel'] = df_1['flight_time']*df_1['fuel_per_hour']\n"
     ]
    }
   ],
   "source": [
    "# рассчитаем количество затраченного топлива за время полёта\n",
    "df_1['consumed_fuel'] = df_1['flight_time']*df_1['fuel_per_hour']"
   ]
  },
  {
   "cell_type": "code",
   "execution_count": 51,
   "metadata": {},
   "outputs": [
    {
     "name": "stderr",
     "output_type": "stream",
     "text": [
      "<ipython-input-51-2b4aae252365>:2: SettingWithCopyWarning: \n",
      "A value is trying to be set on a copy of a slice from a DataFrame.\n",
      "Try using .loc[row_indexer,col_indexer] = value instead\n",
      "\n",
      "See the caveats in the documentation: https://pandas.pydata.org/pandas-docs/stable/user_guide/indexing.html#returning-a-view-versus-a-copy\n",
      "  df_1['fuel_price'] = 41435/1000\n"
     ]
    }
   ],
   "source": [
    "# добавим стоимость авиационного топлива, за кг (по данным за январь 2017г в г.Анапа)\n",
    "df_1['fuel_price'] = 41435/1000"
   ]
  },
  {
   "cell_type": "code",
   "execution_count": 52,
   "metadata": {},
   "outputs": [
    {
     "name": "stderr",
     "output_type": "stream",
     "text": [
      "<ipython-input-52-5cd102911df4>:2: SettingWithCopyWarning: \n",
      "A value is trying to be set on a copy of a slice from a DataFrame.\n",
      "Try using .loc[row_indexer,col_indexer] = value instead\n",
      "\n",
      "See the caveats in the documentation: https://pandas.pydata.org/pandas-docs/stable/user_guide/indexing.html#returning-a-view-versus-a-copy\n",
      "  df_1['spent_for_flight'] = round(df_1['consumed_fuel']*df_1['fuel_price'])\n"
     ]
    }
   ],
   "source": [
    "# рассчитаем стоимость потраченного за рейс топлива\n",
    "df_1['spent_for_flight'] = round(df_1['consumed_fuel']*df_1['fuel_price'])"
   ]
  },
  {
   "cell_type": "code",
   "execution_count": 53,
   "metadata": {},
   "outputs": [
    {
     "data": {
      "text/html": [
       "<div>\n",
       "<style scoped>\n",
       "    .dataframe tbody tr th:only-of-type {\n",
       "        vertical-align: middle;\n",
       "    }\n",
       "\n",
       "    .dataframe tbody tr th {\n",
       "        vertical-align: top;\n",
       "    }\n",
       "\n",
       "    .dataframe thead th {\n",
       "        text-align: right;\n",
       "    }\n",
       "</style>\n",
       "<table border=\"1\" class=\"dataframe\">\n",
       "  <thead>\n",
       "    <tr style=\"text-align: right;\">\n",
       "      <th></th>\n",
       "      <th>flight_id</th>\n",
       "      <th>departure</th>\n",
       "      <th>arrive</th>\n",
       "      <th>flight_revenue</th>\n",
       "      <th>passengers_amount</th>\n",
       "      <th>flight_time</th>\n",
       "      <th>model</th>\n",
       "      <th>seats_amount</th>\n",
       "      <th>fuel_per_hour</th>\n",
       "      <th>consumed_fuel</th>\n",
       "      <th>fuel_price</th>\n",
       "      <th>spent_for_flight</th>\n",
       "    </tr>\n",
       "  </thead>\n",
       "  <tbody>\n",
       "    <tr>\n",
       "      <th>34</th>\n",
       "      <td>136266</td>\n",
       "      <td>Anapa</td>\n",
       "      <td>Moscow</td>\n",
       "      <td>203632000.0</td>\n",
       "      <td>108</td>\n",
       "      <td>1.666667</td>\n",
       "      <td>Boeing 737-300</td>\n",
       "      <td>130</td>\n",
       "      <td>2600</td>\n",
       "      <td>4333.333333</td>\n",
       "      <td>41.435</td>\n",
       "      <td>179552.0</td>\n",
       "    </tr>\n",
       "    <tr>\n",
       "      <th>39</th>\n",
       "      <td>136275</td>\n",
       "      <td>Anapa</td>\n",
       "      <td>Moscow</td>\n",
       "      <td>237250000.0</td>\n",
       "      <td>125</td>\n",
       "      <td>1.633333</td>\n",
       "      <td>Boeing 737-300</td>\n",
       "      <td>130</td>\n",
       "      <td>2600</td>\n",
       "      <td>4246.666667</td>\n",
       "      <td>41.435</td>\n",
       "      <td>175961.0</td>\n",
       "    </tr>\n",
       "    <tr>\n",
       "      <th>19</th>\n",
       "      <td>136204</td>\n",
       "      <td>Anapa</td>\n",
       "      <td>Moscow</td>\n",
       "      <td>189514000.0</td>\n",
       "      <td>107</td>\n",
       "      <td>1.666667</td>\n",
       "      <td>Boeing 737-300</td>\n",
       "      <td>130</td>\n",
       "      <td>2600</td>\n",
       "      <td>4333.333333</td>\n",
       "      <td>41.435</td>\n",
       "      <td>179552.0</td>\n",
       "    </tr>\n",
       "    <tr>\n",
       "      <th>26</th>\n",
       "      <td>136244</td>\n",
       "      <td>Anapa</td>\n",
       "      <td>Moscow</td>\n",
       "      <td>221390000.0</td>\n",
       "      <td>117</td>\n",
       "      <td>1.650000</td>\n",
       "      <td>Boeing 737-300</td>\n",
       "      <td>130</td>\n",
       "      <td>2600</td>\n",
       "      <td>4290.000000</td>\n",
       "      <td>41.435</td>\n",
       "      <td>177756.0</td>\n",
       "    </tr>\n",
       "    <tr>\n",
       "      <th>12</th>\n",
       "      <td>136165</td>\n",
       "      <td>Anapa</td>\n",
       "      <td>Moscow</td>\n",
       "      <td>203788000.0</td>\n",
       "      <td>110</td>\n",
       "      <td>1.683333</td>\n",
       "      <td>Boeing 737-300</td>\n",
       "      <td>130</td>\n",
       "      <td>2600</td>\n",
       "      <td>4376.666667</td>\n",
       "      <td>41.435</td>\n",
       "      <td>181347.0</td>\n",
       "    </tr>\n",
       "  </tbody>\n",
       "</table>\n",
       "</div>"
      ],
      "text/plain": [
       "    flight_id departure  arrive  flight_revenue  passengers_amount  \\\n",
       "34     136266     Anapa  Moscow     203632000.0                108   \n",
       "39     136275     Anapa  Moscow     237250000.0                125   \n",
       "19     136204     Anapa  Moscow     189514000.0                107   \n",
       "26     136244     Anapa  Moscow     221390000.0                117   \n",
       "12     136165     Anapa  Moscow     203788000.0                110   \n",
       "\n",
       "    flight_time           model  seats_amount  fuel_per_hour  consumed_fuel  \\\n",
       "34     1.666667  Boeing 737-300           130           2600    4333.333333   \n",
       "39     1.633333  Boeing 737-300           130           2600    4246.666667   \n",
       "19     1.666667  Boeing 737-300           130           2600    4333.333333   \n",
       "26     1.650000  Boeing 737-300           130           2600    4290.000000   \n",
       "12     1.683333  Boeing 737-300           130           2600    4376.666667   \n",
       "\n",
       "    fuel_price  spent_for_flight  \n",
       "34      41.435          179552.0  \n",
       "39      41.435          175961.0  \n",
       "19      41.435          179552.0  \n",
       "26      41.435          177756.0  \n",
       "12      41.435          181347.0  "
      ]
     },
     "execution_count": 53,
     "metadata": {},
     "output_type": "execute_result"
    }
   ],
   "source": [
    "df_1.sample(5)"
   ]
  },
  {
   "cell_type": "markdown",
   "metadata": {},
   "source": [
    "#### Рассчитаем ключевые показатели, по которым можно будет определить малоприбыльные рейсы"
   ]
  },
  {
   "cell_type": "code",
   "execution_count": 54,
   "metadata": {},
   "outputs": [
    {
     "name": "stderr",
     "output_type": "stream",
     "text": [
      "<ipython-input-54-aec14ad8cb49>:2: SettingWithCopyWarning: \n",
      "A value is trying to be set on a copy of a slice from a DataFrame.\n",
      "Try using .loc[row_indexer,col_indexer] = value instead\n",
      "\n",
      "See the caveats in the documentation: https://pandas.pydata.org/pandas-docs/stable/user_guide/indexing.html#returning-a-view-versus-a-copy\n",
      "  df_1['profit'] = df_1['flight_revenue'] - df_1['spent_for_flight']\n"
     ]
    }
   ],
   "source": [
    "# рассчитаем прибыль за рейс\n",
    "df_1['profit'] = df_1['flight_revenue'] - df_1['spent_for_flight']"
   ]
  },
  {
   "cell_type": "code",
   "execution_count": 55,
   "metadata": {},
   "outputs": [
    {
     "name": "stderr",
     "output_type": "stream",
     "text": [
      "<ipython-input-55-b51e029436f7>:2: SettingWithCopyWarning: \n",
      "A value is trying to be set on a copy of a slice from a DataFrame.\n",
      "Try using .loc[row_indexer,col_indexer] = value instead\n",
      "\n",
      "See the caveats in the documentation: https://pandas.pydata.org/pandas-docs/stable/user_guide/indexing.html#returning-a-view-versus-a-copy\n",
      "  df_1['load_perc'] = df_1['passengers_amount']/df_1['seats_amount']\n"
     ]
    }
   ],
   "source": [
    "# а так же загрузку рейса\n",
    "df_1['load_perc'] = df_1['passengers_amount']/df_1['seats_amount']"
   ]
  },
  {
   "cell_type": "code",
   "execution_count": 56,
   "metadata": {},
   "outputs": [
    {
     "data": {
      "text/html": [
       "<div>\n",
       "<style scoped>\n",
       "    .dataframe tbody tr th:only-of-type {\n",
       "        vertical-align: middle;\n",
       "    }\n",
       "\n",
       "    .dataframe tbody tr th {\n",
       "        vertical-align: top;\n",
       "    }\n",
       "\n",
       "    .dataframe thead th {\n",
       "        text-align: right;\n",
       "    }\n",
       "</style>\n",
       "<table border=\"1\" class=\"dataframe\">\n",
       "  <thead>\n",
       "    <tr style=\"text-align: right;\">\n",
       "      <th></th>\n",
       "      <th>flight_id</th>\n",
       "      <th>departure</th>\n",
       "      <th>arrive</th>\n",
       "      <th>flight_revenue</th>\n",
       "      <th>passengers_amount</th>\n",
       "      <th>flight_time</th>\n",
       "      <th>model</th>\n",
       "      <th>seats_amount</th>\n",
       "      <th>fuel_per_hour</th>\n",
       "      <th>consumed_fuel</th>\n",
       "      <th>fuel_price</th>\n",
       "      <th>spent_for_flight</th>\n",
       "      <th>profit</th>\n",
       "      <th>load_perc</th>\n",
       "    </tr>\n",
       "  </thead>\n",
       "  <tbody>\n",
       "    <tr>\n",
       "      <th>40</th>\n",
       "      <td>136282</td>\n",
       "      <td>Anapa</td>\n",
       "      <td>Moscow</td>\n",
       "      <td>197444000.0</td>\n",
       "      <td>106</td>\n",
       "      <td>1.683333</td>\n",
       "      <td>Boeing 737-300</td>\n",
       "      <td>130</td>\n",
       "      <td>2600</td>\n",
       "      <td>4376.666667</td>\n",
       "      <td>41.435</td>\n",
       "      <td>181347.0</td>\n",
       "      <td>197262653.0</td>\n",
       "      <td>0.815385</td>\n",
       "    </tr>\n",
       "    <tr>\n",
       "      <th>80</th>\n",
       "      <td>136463</td>\n",
       "      <td>Anapa</td>\n",
       "      <td>Moscow</td>\n",
       "      <td>232492000.0</td>\n",
       "      <td>122</td>\n",
       "      <td>1.650000</td>\n",
       "      <td>Boeing 737-300</td>\n",
       "      <td>130</td>\n",
       "      <td>2600</td>\n",
       "      <td>4290.000000</td>\n",
       "      <td>41.435</td>\n",
       "      <td>177756.0</td>\n",
       "      <td>232314244.0</td>\n",
       "      <td>0.938462</td>\n",
       "    </tr>\n",
       "    <tr>\n",
       "      <th>85</th>\n",
       "      <td>136479</td>\n",
       "      <td>Anapa</td>\n",
       "      <td>Moscow</td>\n",
       "      <td>225992000.0</td>\n",
       "      <td>122</td>\n",
       "      <td>1.650000</td>\n",
       "      <td>Boeing 737-300</td>\n",
       "      <td>130</td>\n",
       "      <td>2600</td>\n",
       "      <td>4290.000000</td>\n",
       "      <td>41.435</td>\n",
       "      <td>177756.0</td>\n",
       "      <td>225814244.0</td>\n",
       "      <td>0.938462</td>\n",
       "    </tr>\n",
       "    <tr>\n",
       "      <th>32</th>\n",
       "      <td>136262</td>\n",
       "      <td>Anapa</td>\n",
       "      <td>Moscow</td>\n",
       "      <td>242008000.0</td>\n",
       "      <td>128</td>\n",
       "      <td>1.650000</td>\n",
       "      <td>Boeing 737-300</td>\n",
       "      <td>130</td>\n",
       "      <td>2600</td>\n",
       "      <td>4290.000000</td>\n",
       "      <td>41.435</td>\n",
       "      <td>177756.0</td>\n",
       "      <td>241830244.0</td>\n",
       "      <td>0.984615</td>\n",
       "    </tr>\n",
       "    <tr>\n",
       "      <th>19</th>\n",
       "      <td>136204</td>\n",
       "      <td>Anapa</td>\n",
       "      <td>Moscow</td>\n",
       "      <td>189514000.0</td>\n",
       "      <td>107</td>\n",
       "      <td>1.666667</td>\n",
       "      <td>Boeing 737-300</td>\n",
       "      <td>130</td>\n",
       "      <td>2600</td>\n",
       "      <td>4333.333333</td>\n",
       "      <td>41.435</td>\n",
       "      <td>179552.0</td>\n",
       "      <td>189334448.0</td>\n",
       "      <td>0.823077</td>\n",
       "    </tr>\n",
       "  </tbody>\n",
       "</table>\n",
       "</div>"
      ],
      "text/plain": [
       "    flight_id departure  arrive  flight_revenue  passengers_amount  \\\n",
       "40     136282     Anapa  Moscow     197444000.0                106   \n",
       "80     136463     Anapa  Moscow     232492000.0                122   \n",
       "85     136479     Anapa  Moscow     225992000.0                122   \n",
       "32     136262     Anapa  Moscow     242008000.0                128   \n",
       "19     136204     Anapa  Moscow     189514000.0                107   \n",
       "\n",
       "    flight_time           model  seats_amount  fuel_per_hour  consumed_fuel  \\\n",
       "40     1.683333  Boeing 737-300           130           2600    4376.666667   \n",
       "80     1.650000  Boeing 737-300           130           2600    4290.000000   \n",
       "85     1.650000  Boeing 737-300           130           2600    4290.000000   \n",
       "32     1.650000  Boeing 737-300           130           2600    4290.000000   \n",
       "19     1.666667  Boeing 737-300           130           2600    4333.333333   \n",
       "\n",
       "    fuel_price  spent_for_flight       profit  load_perc  \n",
       "40      41.435          181347.0  197262653.0   0.815385  \n",
       "80      41.435          177756.0  232314244.0   0.938462  \n",
       "85      41.435          177756.0  225814244.0   0.938462  \n",
       "32      41.435          177756.0  241830244.0   0.984615  \n",
       "19      41.435          179552.0  189334448.0   0.823077  "
      ]
     },
     "execution_count": 56,
     "metadata": {},
     "output_type": "execute_result"
    }
   ],
   "source": [
    "df_1.sample(5)"
   ]
  },
  {
   "cell_type": "markdown",
   "metadata": {},
   "source": [
    "#### Посмотрим на полученные показатели"
   ]
  },
  {
   "cell_type": "code",
   "execution_count": 82,
   "metadata": {},
   "outputs": [
    {
     "data": {
      "text/plain": [
       "<AxesSubplot:>"
      ]
     },
     "execution_count": 82,
     "metadata": {},
     "output_type": "execute_result"
    },
    {
     "data": {
      "image/png": "[encoded data removed]",
      "text/plain": [
       "<Figure size 432x288 with 1 Axes>"
      ]
     },
     "metadata": {
      "needs_background": "light"
     },
     "output_type": "display_data"
    }
   ],
   "source": [
    "df_1.profit.hist(bins=15)"
   ]
  },
  {
   "cell_type": "code",
   "execution_count": 59,
   "metadata": {},
   "outputs": [
    {
     "data": {
      "text/plain": [
       "<AxesSubplot:>"
      ]
     },
     "execution_count": 59,
     "metadata": {},
     "output_type": "execute_result"
    },
    {
     "data": {
      "image/png": "[encoded data removed]",
      "text/plain": [
       "<Figure size 432x288 with 1 Axes>"
      ]
     },
     "metadata": {
      "needs_background": "light"
     },
     "output_type": "display_data"
    }
   ],
   "source": [
    "df_1.load_perc.hist()"
   ]
  },
  {
   "cell_type": "markdown",
   "metadata": {},
   "source": [
    "Из данных видно, что существуют явные рейсы с низкой загрузкой/прибылью"
   ]
  },
  {
   "cell_type": "code",
   "execution_count": 79,
   "metadata": {},
   "outputs": [
    {
     "data": {
      "text/html": [
       "<div>\n",
       "<style scoped>\n",
       "    .dataframe tbody tr th:only-of-type {\n",
       "        vertical-align: middle;\n",
       "    }\n",
       "\n",
       "    .dataframe tbody tr th {\n",
       "        vertical-align: top;\n",
       "    }\n",
       "\n",
       "    .dataframe thead th {\n",
       "        text-align: right;\n",
       "    }\n",
       "</style>\n",
       "<table border=\"1\" class=\"dataframe\">\n",
       "  <thead>\n",
       "    <tr style=\"text-align: right;\">\n",
       "      <th></th>\n",
       "      <th>flight_id</th>\n",
       "      <th>departure</th>\n",
       "      <th>arrive</th>\n",
       "      <th>flight_revenue</th>\n",
       "      <th>passengers_amount</th>\n",
       "      <th>flight_time</th>\n",
       "      <th>model</th>\n",
       "      <th>seats_amount</th>\n",
       "      <th>fuel_per_hour</th>\n",
       "      <th>consumed_fuel</th>\n",
       "      <th>fuel_price</th>\n",
       "      <th>spent_for_flight</th>\n",
       "      <th>profit</th>\n",
       "      <th>load_perc</th>\n",
       "    </tr>\n",
       "  </thead>\n",
       "  <tbody>\n",
       "    <tr>\n",
       "      <th>28</th>\n",
       "      <td>136250</td>\n",
       "      <td>Anapa</td>\n",
       "      <td>Moscow</td>\n",
       "      <td>183014000.0</td>\n",
       "      <td>99</td>\n",
       "      <td>1.683333</td>\n",
       "      <td>Boeing 737-300</td>\n",
       "      <td>130</td>\n",
       "      <td>2600</td>\n",
       "      <td>4376.666667</td>\n",
       "      <td>41.435</td>\n",
       "      <td>181347.0</td>\n",
       "      <td>182832653.0</td>\n",
       "      <td>0.761538</td>\n",
       "    </tr>\n",
       "    <tr>\n",
       "      <th>30</th>\n",
       "      <td>136253</td>\n",
       "      <td>Anapa</td>\n",
       "      <td>Moscow</td>\n",
       "      <td>183014000.0</td>\n",
       "      <td>93</td>\n",
       "      <td>1.633333</td>\n",
       "      <td>Boeing 737-300</td>\n",
       "      <td>130</td>\n",
       "      <td>2600</td>\n",
       "      <td>4246.666667</td>\n",
       "      <td>41.435</td>\n",
       "      <td>175961.0</td>\n",
       "      <td>182838039.0</td>\n",
       "      <td>0.715385</td>\n",
       "    </tr>\n",
       "    <tr>\n",
       "      <th>56</th>\n",
       "      <td>136352</td>\n",
       "      <td>Anapa</td>\n",
       "      <td>Moscow</td>\n",
       "      <td>178412000.0</td>\n",
       "      <td>92</td>\n",
       "      <td>1.666667</td>\n",
       "      <td>Boeing 737-300</td>\n",
       "      <td>130</td>\n",
       "      <td>2600</td>\n",
       "      <td>4333.333333</td>\n",
       "      <td>41.435</td>\n",
       "      <td>179552.0</td>\n",
       "      <td>178232448.0</td>\n",
       "      <td>0.707692</td>\n",
       "    </tr>\n",
       "    <tr>\n",
       "      <th>69</th>\n",
       "      <td>136418</td>\n",
       "      <td>Anapa</td>\n",
       "      <td>Moscow</td>\n",
       "      <td>183014000.0</td>\n",
       "      <td>97</td>\n",
       "      <td>1.666667</td>\n",
       "      <td>Boeing 737-300</td>\n",
       "      <td>130</td>\n",
       "      <td>2600</td>\n",
       "      <td>4333.333333</td>\n",
       "      <td>41.435</td>\n",
       "      <td>179552.0</td>\n",
       "      <td>182834448.0</td>\n",
       "      <td>0.746154</td>\n",
       "    </tr>\n",
       "    <tr>\n",
       "      <th>81</th>\n",
       "      <td>136464</td>\n",
       "      <td>Anapa</td>\n",
       "      <td>Moscow</td>\n",
       "      <td>181740000.0</td>\n",
       "      <td>100</td>\n",
       "      <td>1.666667</td>\n",
       "      <td>Boeing 737-300</td>\n",
       "      <td>130</td>\n",
       "      <td>2600</td>\n",
       "      <td>4333.333333</td>\n",
       "      <td>41.435</td>\n",
       "      <td>179552.0</td>\n",
       "      <td>181560448.0</td>\n",
       "      <td>0.769231</td>\n",
       "    </tr>\n",
       "  </tbody>\n",
       "</table>\n",
       "</div>"
      ],
      "text/plain": [
       "    flight_id departure  arrive  flight_revenue  passengers_amount  \\\n",
       "28     136250     Anapa  Moscow     183014000.0                 99   \n",
       "30     136253     Anapa  Moscow     183014000.0                 93   \n",
       "56     136352     Anapa  Moscow     178412000.0                 92   \n",
       "69     136418     Anapa  Moscow     183014000.0                 97   \n",
       "81     136464     Anapa  Moscow     181740000.0                100   \n",
       "\n",
       "    flight_time           model  seats_amount  fuel_per_hour  consumed_fuel  \\\n",
       "28     1.683333  Boeing 737-300           130           2600    4376.666667   \n",
       "30     1.633333  Boeing 737-300           130           2600    4246.666667   \n",
       "56     1.666667  Boeing 737-300           130           2600    4333.333333   \n",
       "69     1.666667  Boeing 737-300           130           2600    4333.333333   \n",
       "81     1.666667  Boeing 737-300           130           2600    4333.333333   \n",
       "\n",
       "    fuel_price  spent_for_flight       profit  load_perc  \n",
       "28      41.435          181347.0  182832653.0   0.761538  \n",
       "30      41.435          175961.0  182838039.0   0.715385  \n",
       "56      41.435          179552.0  178232448.0   0.707692  \n",
       "69      41.435          179552.0  182834448.0   0.746154  \n",
       "81      41.435          179552.0  181560448.0   0.769231  "
      ]
     },
     "execution_count": 79,
     "metadata": {},
     "output_type": "execute_result"
    }
   ],
   "source": [
    "df_1.query('profit<183000000')"
   ]
  },
  {
   "cell_type": "code",
   "execution_count": 80,
   "metadata": {},
   "outputs": [
    {
     "data": {
      "text/html": [
       "<div>\n",
       "<style scoped>\n",
       "    .dataframe tbody tr th:only-of-type {\n",
       "        vertical-align: middle;\n",
       "    }\n",
       "\n",
       "    .dataframe tbody tr th {\n",
       "        vertical-align: top;\n",
       "    }\n",
       "\n",
       "    .dataframe thead th {\n",
       "        text-align: right;\n",
       "    }\n",
       "</style>\n",
       "<table border=\"1\" class=\"dataframe\">\n",
       "  <thead>\n",
       "    <tr style=\"text-align: right;\">\n",
       "      <th></th>\n",
       "      <th>flight_id</th>\n",
       "      <th>departure</th>\n",
       "      <th>arrive</th>\n",
       "      <th>flight_revenue</th>\n",
       "      <th>passengers_amount</th>\n",
       "      <th>flight_time</th>\n",
       "      <th>model</th>\n",
       "      <th>seats_amount</th>\n",
       "      <th>fuel_per_hour</th>\n",
       "      <th>consumed_fuel</th>\n",
       "      <th>fuel_price</th>\n",
       "      <th>spent_for_flight</th>\n",
       "      <th>profit</th>\n",
       "      <th>load_perc</th>\n",
       "    </tr>\n",
       "  </thead>\n",
       "  <tbody>\n",
       "    <tr>\n",
       "      <th>2</th>\n",
       "      <td>136122</td>\n",
       "      <td>Anapa</td>\n",
       "      <td>Moscow</td>\n",
       "      <td>186030000.0</td>\n",
       "      <td>97</td>\n",
       "      <td>1.666667</td>\n",
       "      <td>Boeing 737-300</td>\n",
       "      <td>130</td>\n",
       "      <td>2600</td>\n",
       "      <td>4333.333333</td>\n",
       "      <td>41.435</td>\n",
       "      <td>179552.0</td>\n",
       "      <td>185850448.0</td>\n",
       "      <td>0.746154</td>\n",
       "    </tr>\n",
       "    <tr>\n",
       "      <th>30</th>\n",
       "      <td>136253</td>\n",
       "      <td>Anapa</td>\n",
       "      <td>Moscow</td>\n",
       "      <td>183014000.0</td>\n",
       "      <td>93</td>\n",
       "      <td>1.633333</td>\n",
       "      <td>Boeing 737-300</td>\n",
       "      <td>130</td>\n",
       "      <td>2600</td>\n",
       "      <td>4246.666667</td>\n",
       "      <td>41.435</td>\n",
       "      <td>175961.0</td>\n",
       "      <td>182838039.0</td>\n",
       "      <td>0.715385</td>\n",
       "    </tr>\n",
       "    <tr>\n",
       "      <th>56</th>\n",
       "      <td>136352</td>\n",
       "      <td>Anapa</td>\n",
       "      <td>Moscow</td>\n",
       "      <td>178412000.0</td>\n",
       "      <td>92</td>\n",
       "      <td>1.666667</td>\n",
       "      <td>Boeing 737-300</td>\n",
       "      <td>130</td>\n",
       "      <td>2600</td>\n",
       "      <td>4333.333333</td>\n",
       "      <td>41.435</td>\n",
       "      <td>179552.0</td>\n",
       "      <td>178232448.0</td>\n",
       "      <td>0.707692</td>\n",
       "    </tr>\n",
       "    <tr>\n",
       "      <th>57</th>\n",
       "      <td>136360</td>\n",
       "      <td>Anapa</td>\n",
       "      <td>Moscow</td>\n",
       "      <td>189202000.0</td>\n",
       "      <td>97</td>\n",
       "      <td>1.666667</td>\n",
       "      <td>Boeing 737-300</td>\n",
       "      <td>130</td>\n",
       "      <td>2600</td>\n",
       "      <td>4333.333333</td>\n",
       "      <td>41.435</td>\n",
       "      <td>179552.0</td>\n",
       "      <td>189022448.0</td>\n",
       "      <td>0.746154</td>\n",
       "    </tr>\n",
       "    <tr>\n",
       "      <th>69</th>\n",
       "      <td>136418</td>\n",
       "      <td>Anapa</td>\n",
       "      <td>Moscow</td>\n",
       "      <td>183014000.0</td>\n",
       "      <td>97</td>\n",
       "      <td>1.666667</td>\n",
       "      <td>Boeing 737-300</td>\n",
       "      <td>130</td>\n",
       "      <td>2600</td>\n",
       "      <td>4333.333333</td>\n",
       "      <td>41.435</td>\n",
       "      <td>179552.0</td>\n",
       "      <td>182834448.0</td>\n",
       "      <td>0.746154</td>\n",
       "    </tr>\n",
       "  </tbody>\n",
       "</table>\n",
       "</div>"
      ],
      "text/plain": [
       "    flight_id departure  arrive  flight_revenue  passengers_amount  \\\n",
       "2      136122     Anapa  Moscow     186030000.0                 97   \n",
       "30     136253     Anapa  Moscow     183014000.0                 93   \n",
       "56     136352     Anapa  Moscow     178412000.0                 92   \n",
       "57     136360     Anapa  Moscow     189202000.0                 97   \n",
       "69     136418     Anapa  Moscow     183014000.0                 97   \n",
       "\n",
       "    flight_time           model  seats_amount  fuel_per_hour  consumed_fuel  \\\n",
       "2      1.666667  Boeing 737-300           130           2600    4333.333333   \n",
       "30     1.633333  Boeing 737-300           130           2600    4246.666667   \n",
       "56     1.666667  Boeing 737-300           130           2600    4333.333333   \n",
       "57     1.666667  Boeing 737-300           130           2600    4333.333333   \n",
       "69     1.666667  Boeing 737-300           130           2600    4333.333333   \n",
       "\n",
       "    fuel_price  spent_for_flight       profit  load_perc  \n",
       "2       41.435          179552.0  185850448.0   0.746154  \n",
       "30      41.435          175961.0  182838039.0   0.715385  \n",
       "56      41.435          179552.0  178232448.0   0.707692  \n",
       "57      41.435          179552.0  189022448.0   0.746154  \n",
       "69      41.435          179552.0  182834448.0   0.746154  "
      ]
     },
     "execution_count": 80,
     "metadata": {},
     "output_type": "execute_result"
    }
   ],
   "source": [
    "df_1.query('load_perc<0.75')"
   ]
  },
  {
   "cell_type": "markdown",
   "metadata": {},
   "source": [
    "Как видим, малозаполненные рейсы как правило являются так же и менее прибыльными"
   ]
  },
  {
   "cell_type": "markdown",
   "metadata": {},
   "source": [
    "#### Проведем такой же анализ для второго направления"
   ]
  },
  {
   "cell_type": "markdown",
   "metadata": {},
   "source": [
    "### Рассмотрим рейсы на Белгород"
   ]
  },
  {
   "cell_type": "code",
   "execution_count": 83,
   "metadata": {},
   "outputs": [
    {
     "data": {
      "text/html": [
       "<div>\n",
       "<style scoped>\n",
       "    .dataframe tbody tr th:only-of-type {\n",
       "        vertical-align: middle;\n",
       "    }\n",
       "\n",
       "    .dataframe tbody tr th {\n",
       "        vertical-align: top;\n",
       "    }\n",
       "\n",
       "    .dataframe thead th {\n",
       "        text-align: right;\n",
       "    }\n",
       "</style>\n",
       "<table border=\"1\" class=\"dataframe\">\n",
       "  <thead>\n",
       "    <tr style=\"text-align: right;\">\n",
       "      <th></th>\n",
       "      <th>flight_id</th>\n",
       "      <th>departure</th>\n",
       "      <th>arrive</th>\n",
       "      <th>flight_revenue</th>\n",
       "      <th>passengers_amount</th>\n",
       "      <th>flight_time</th>\n",
       "      <th>model</th>\n",
       "      <th>seats_amount</th>\n",
       "    </tr>\n",
       "  </thead>\n",
       "  <tbody>\n",
       "    <tr>\n",
       "      <th>90</th>\n",
       "      <td>136571</td>\n",
       "      <td>Anapa</td>\n",
       "      <td>Belgorod</td>\n",
       "      <td>73011900.0</td>\n",
       "      <td>95</td>\n",
       "      <td>0.833333</td>\n",
       "      <td>Sukhoi Superjet-100</td>\n",
       "      <td>97</td>\n",
       "    </tr>\n",
       "    <tr>\n",
       "      <th>91</th>\n",
       "      <td>136586</td>\n",
       "      <td>Anapa</td>\n",
       "      <td>Belgorod</td>\n",
       "      <td>73623000.0</td>\n",
       "      <td>96</td>\n",
       "      <td>0.833333</td>\n",
       "      <td>Sukhoi Superjet-100</td>\n",
       "      <td>97</td>\n",
       "    </tr>\n",
       "    <tr>\n",
       "      <th>92</th>\n",
       "      <td>136592</td>\n",
       "      <td>Anapa</td>\n",
       "      <td>Belgorod</td>\n",
       "      <td>65678700.0</td>\n",
       "      <td>89</td>\n",
       "      <td>0.833333</td>\n",
       "      <td>Sukhoi Superjet-100</td>\n",
       "      <td>97</td>\n",
       "    </tr>\n",
       "    <tr>\n",
       "      <th>93</th>\n",
       "      <td>136600</td>\n",
       "      <td>Anapa</td>\n",
       "      <td>Belgorod</td>\n",
       "      <td>74234100.0</td>\n",
       "      <td>97</td>\n",
       "      <td>0.833333</td>\n",
       "      <td>Sukhoi Superjet-100</td>\n",
       "      <td>97</td>\n",
       "    </tr>\n",
       "    <tr>\n",
       "      <th>94</th>\n",
       "      <td>136605</td>\n",
       "      <td>Anapa</td>\n",
       "      <td>Belgorod</td>\n",
       "      <td>74234100.0</td>\n",
       "      <td>97</td>\n",
       "      <td>0.850000</td>\n",
       "      <td>Sukhoi Superjet-100</td>\n",
       "      <td>97</td>\n",
       "    </tr>\n",
       "    <tr>\n",
       "      <th>...</th>\n",
       "      <td>...</td>\n",
       "      <td>...</td>\n",
       "      <td>...</td>\n",
       "      <td>...</td>\n",
       "      <td>...</td>\n",
       "      <td>...</td>\n",
       "      <td>...</td>\n",
       "      <td>...</td>\n",
       "    </tr>\n",
       "    <tr>\n",
       "      <th>175</th>\n",
       "      <td>136943</td>\n",
       "      <td>Anapa</td>\n",
       "      <td>Belgorod</td>\n",
       "      <td>71178600.0</td>\n",
       "      <td>94</td>\n",
       "      <td>0.833333</td>\n",
       "      <td>Sukhoi Superjet-100</td>\n",
       "      <td>97</td>\n",
       "    </tr>\n",
       "    <tr>\n",
       "      <th>176</th>\n",
       "      <td>136951</td>\n",
       "      <td>Anapa</td>\n",
       "      <td>Belgorod</td>\n",
       "      <td>69898200.0</td>\n",
       "      <td>90</td>\n",
       "      <td>0.816667</td>\n",
       "      <td>Sukhoi Superjet-100</td>\n",
       "      <td>97</td>\n",
       "    </tr>\n",
       "    <tr>\n",
       "      <th>177</th>\n",
       "      <td>136953</td>\n",
       "      <td>Anapa</td>\n",
       "      <td>Belgorod</td>\n",
       "      <td>74234100.0</td>\n",
       "      <td>97</td>\n",
       "      <td>0.833333</td>\n",
       "      <td>Sukhoi Superjet-100</td>\n",
       "      <td>97</td>\n",
       "    </tr>\n",
       "    <tr>\n",
       "      <th>178</th>\n",
       "      <td>136956</td>\n",
       "      <td>Anapa</td>\n",
       "      <td>Belgorod</td>\n",
       "      <td>72400800.0</td>\n",
       "      <td>96</td>\n",
       "      <td>0.833333</td>\n",
       "      <td>Sukhoi Superjet-100</td>\n",
       "      <td>97</td>\n",
       "    </tr>\n",
       "    <tr>\n",
       "      <th>179</th>\n",
       "      <td>136961</td>\n",
       "      <td>Anapa</td>\n",
       "      <td>Belgorod</td>\n",
       "      <td>73623000.0</td>\n",
       "      <td>96</td>\n",
       "      <td>0.816667</td>\n",
       "      <td>Sukhoi Superjet-100</td>\n",
       "      <td>97</td>\n",
       "    </tr>\n",
       "  </tbody>\n",
       "</table>\n",
       "<p>90 rows × 8 columns</p>\n",
       "</div>"
      ],
      "text/plain": [
       "     flight_id departure    arrive  flight_revenue  passengers_amount  \\\n",
       "90      136571     Anapa  Belgorod      73011900.0                 95   \n",
       "91      136586     Anapa  Belgorod      73623000.0                 96   \n",
       "92      136592     Anapa  Belgorod      65678700.0                 89   \n",
       "93      136600     Anapa  Belgorod      74234100.0                 97   \n",
       "94      136605     Anapa  Belgorod      74234100.0                 97   \n",
       "..         ...       ...       ...             ...                ...   \n",
       "175     136943     Anapa  Belgorod      71178600.0                 94   \n",
       "176     136951     Anapa  Belgorod      69898200.0                 90   \n",
       "177     136953     Anapa  Belgorod      74234100.0                 97   \n",
       "178     136956     Anapa  Belgorod      72400800.0                 96   \n",
       "179     136961     Anapa  Belgorod      73623000.0                 96   \n",
       "\n",
       "     flight_time                model  seats_amount  \n",
       "90      0.833333  Sukhoi Superjet-100            97  \n",
       "91      0.833333  Sukhoi Superjet-100            97  \n",
       "92      0.833333  Sukhoi Superjet-100            97  \n",
       "93      0.833333  Sukhoi Superjet-100            97  \n",
       "94      0.850000  Sukhoi Superjet-100            97  \n",
       "..           ...                  ...           ...  \n",
       "175     0.833333  Sukhoi Superjet-100            97  \n",
       "176     0.816667  Sukhoi Superjet-100            97  \n",
       "177     0.833333  Sukhoi Superjet-100            97  \n",
       "178     0.833333  Sukhoi Superjet-100            97  \n",
       "179     0.816667  Sukhoi Superjet-100            97  \n",
       "\n",
       "[90 rows x 8 columns]"
      ]
     },
     "execution_count": 83,
     "metadata": {},
     "output_type": "execute_result"
    }
   ],
   "source": [
    "df_2"
   ]
  },
  {
   "cell_type": "code",
   "execution_count": 84,
   "metadata": {},
   "outputs": [
    {
     "data": {
      "text/plain": [
       "<AxesSubplot:>"
      ]
     },
     "execution_count": 84,
     "metadata": {},
     "output_type": "execute_result"
    },
    {
     "data": {
      "image/png": "[encoded data removed]",
      "text/plain": [
       "<Figure size 432x288 with 1 Axes>"
      ]
     },
     "metadata": {
      "needs_background": "light"
     },
     "output_type": "display_data"
    }
   ],
   "source": [
    "# посмотрим на выручку с продажи билетов\n",
    "df_2.flight_revenue.hist()"
   ]
  },
  {
   "cell_type": "code",
   "execution_count": 85,
   "metadata": {},
   "outputs": [
    {
     "data": {
      "text/plain": [
       "<AxesSubplot:>"
      ]
     },
     "execution_count": 85,
     "metadata": {},
     "output_type": "execute_result"
    },
    {
     "data": {
      "image/png": "[encoded data removed]",
      "text/plain": [
       "<Figure size 432x288 with 1 Axes>"
      ]
     },
     "metadata": {
      "needs_background": "light"
     },
     "output_type": "display_data"
    }
   ],
   "source": [
    "# посмотрим на количество пассажиров на рейсах\n",
    "df_2.passengers_amount.hist()"
   ]
  },
  {
   "cell_type": "code",
   "execution_count": 86,
   "metadata": {},
   "outputs": [
    {
     "data": {
      "text/plain": [
       "<AxesSubplot:>"
      ]
     },
     "execution_count": 86,
     "metadata": {},
     "output_type": "execute_result"
    },
    {
     "data": {
      "image/png": "[encoded data removed]",
      "text/plain": [
       "<Figure size 432x288 with 1 Axes>"
      ]
     },
     "metadata": {
      "needs_background": "light"
     },
     "output_type": "display_data"
    }
   ],
   "source": [
    "# посмотрим на время полёта\n",
    "df_1.flight_time.hist()"
   ]
  },
  {
   "cell_type": "code",
   "execution_count": 87,
   "metadata": {},
   "outputs": [
    {
     "data": {
      "text/plain": [
       "Boeing 737-300    90\n",
       "Name: model, dtype: int64"
      ]
     },
     "execution_count": 87,
     "metadata": {},
     "output_type": "execute_result"
    }
   ],
   "source": [
    "# посмотрим на модели самолётов, летающих по данному направлению\n",
    "df_1.model.value_counts()"
   ]
  },
  {
   "cell_type": "markdown",
   "metadata": {},
   "source": [
    "#### Добавим данные по расходам на топливо"
   ]
  },
  {
   "cell_type": "code",
   "execution_count": 89,
   "metadata": {},
   "outputs": [
    {
     "name": "stderr",
     "output_type": "stream",
     "text": [
      "<ipython-input-89-cdeb16511db0>:3: SettingWithCopyWarning: \n",
      "A value is trying to be set on a copy of a slice from a DataFrame.\n",
      "Try using .loc[row_indexer,col_indexer] = value instead\n",
      "\n",
      "See the caveats in the documentation: https://pandas.pydata.org/pandas-docs/stable/user_guide/indexing.html#returning-a-view-versus-a-copy\n",
      "  df_2['fuel_per_hour'] = 1864\n"
     ]
    }
   ],
   "source": [
    "# создадим столбец с расходом топлива\n",
    "# для данной модели самолёта расход составляет 2600 кг/ч\n",
    "df_2['fuel_per_hour'] = 1864"
   ]
  },
  {
   "cell_type": "code",
   "execution_count": 90,
   "metadata": {},
   "outputs": [
    {
     "name": "stderr",
     "output_type": "stream",
     "text": [
      "<ipython-input-90-02860e5f99a4>:2: SettingWithCopyWarning: \n",
      "A value is trying to be set on a copy of a slice from a DataFrame.\n",
      "Try using .loc[row_indexer,col_indexer] = value instead\n",
      "\n",
      "See the caveats in the documentation: https://pandas.pydata.org/pandas-docs/stable/user_guide/indexing.html#returning-a-view-versus-a-copy\n",
      "  df_2['consumed_fuel'] = df_2['flight_time']*df_2['fuel_per_hour']\n"
     ]
    }
   ],
   "source": [
    "# рассчитаем количество затраченного топлива за время полёта\n",
    "df_2['consumed_fuel'] = df_2['flight_time']*df_2['fuel_per_hour']"
   ]
  },
  {
   "cell_type": "code",
   "execution_count": 91,
   "metadata": {},
   "outputs": [
    {
     "name": "stderr",
     "output_type": "stream",
     "text": [
      "<ipython-input-91-f40fe1cfffb7>:2: SettingWithCopyWarning: \n",
      "A value is trying to be set on a copy of a slice from a DataFrame.\n",
      "Try using .loc[row_indexer,col_indexer] = value instead\n",
      "\n",
      "See the caveats in the documentation: https://pandas.pydata.org/pandas-docs/stable/user_guide/indexing.html#returning-a-view-versus-a-copy\n",
      "  df_2['fuel_price'] = 41435/1000\n"
     ]
    }
   ],
   "source": [
    "# добавим стоимость авиационного топлива, за кг (по данным за январь 2017г в г.Анапа)\n",
    "df_2['fuel_price'] = 41435/1000"
   ]
  },
  {
   "cell_type": "code",
   "execution_count": 92,
   "metadata": {},
   "outputs": [
    {
     "name": "stderr",
     "output_type": "stream",
     "text": [
      "<ipython-input-92-dfe4ddeeb461>:2: SettingWithCopyWarning: \n",
      "A value is trying to be set on a copy of a slice from a DataFrame.\n",
      "Try using .loc[row_indexer,col_indexer] = value instead\n",
      "\n",
      "See the caveats in the documentation: https://pandas.pydata.org/pandas-docs/stable/user_guide/indexing.html#returning-a-view-versus-a-copy\n",
      "  df_2['spent_for_flight'] = round(df_2['consumed_fuel']*df_2['fuel_price'])\n"
     ]
    }
   ],
   "source": [
    "# рассчитаем стоимость потраченного за рейс топлива\n",
    "df_2['spent_for_flight'] = round(df_2['consumed_fuel']*df_2['fuel_price'])"
   ]
  },
  {
   "cell_type": "code",
   "execution_count": 93,
   "metadata": {},
   "outputs": [
    {
     "data": {
      "text/html": [
       "<div>\n",
       "<style scoped>\n",
       "    .dataframe tbody tr th:only-of-type {\n",
       "        vertical-align: middle;\n",
       "    }\n",
       "\n",
       "    .dataframe tbody tr th {\n",
       "        vertical-align: top;\n",
       "    }\n",
       "\n",
       "    .dataframe thead th {\n",
       "        text-align: right;\n",
       "    }\n",
       "</style>\n",
       "<table border=\"1\" class=\"dataframe\">\n",
       "  <thead>\n",
       "    <tr style=\"text-align: right;\">\n",
       "      <th></th>\n",
       "      <th>flight_id</th>\n",
       "      <th>departure</th>\n",
       "      <th>arrive</th>\n",
       "      <th>flight_revenue</th>\n",
       "      <th>passengers_amount</th>\n",
       "      <th>flight_time</th>\n",
       "      <th>model</th>\n",
       "      <th>seats_amount</th>\n",
       "      <th>fuel_per_hour</th>\n",
       "      <th>consumed_fuel</th>\n",
       "      <th>fuel_price</th>\n",
       "      <th>spent_for_flight</th>\n",
       "    </tr>\n",
       "  </thead>\n",
       "  <tbody>\n",
       "    <tr>\n",
       "      <th>93</th>\n",
       "      <td>136600</td>\n",
       "      <td>Anapa</td>\n",
       "      <td>Belgorod</td>\n",
       "      <td>74234100.0</td>\n",
       "      <td>97</td>\n",
       "      <td>0.833333</td>\n",
       "      <td>Sukhoi Superjet-100</td>\n",
       "      <td>97</td>\n",
       "      <td>1864</td>\n",
       "      <td>1553.333333</td>\n",
       "      <td>41.435</td>\n",
       "      <td>64362.0</td>\n",
       "    </tr>\n",
       "    <tr>\n",
       "      <th>145</th>\n",
       "      <td>136815</td>\n",
       "      <td>Anapa</td>\n",
       "      <td>Belgorod</td>\n",
       "      <td>74234100.0</td>\n",
       "      <td>97</td>\n",
       "      <td>0.850000</td>\n",
       "      <td>Sukhoi Superjet-100</td>\n",
       "      <td>97</td>\n",
       "      <td>1864</td>\n",
       "      <td>1584.400000</td>\n",
       "      <td>41.435</td>\n",
       "      <td>65650.0</td>\n",
       "    </tr>\n",
       "    <tr>\n",
       "      <th>179</th>\n",
       "      <td>136961</td>\n",
       "      <td>Anapa</td>\n",
       "      <td>Belgorod</td>\n",
       "      <td>73623000.0</td>\n",
       "      <td>96</td>\n",
       "      <td>0.816667</td>\n",
       "      <td>Sukhoi Superjet-100</td>\n",
       "      <td>97</td>\n",
       "      <td>1864</td>\n",
       "      <td>1522.266667</td>\n",
       "      <td>41.435</td>\n",
       "      <td>63075.0</td>\n",
       "    </tr>\n",
       "    <tr>\n",
       "      <th>166</th>\n",
       "      <td>136900</td>\n",
       "      <td>Anapa</td>\n",
       "      <td>Belgorod</td>\n",
       "      <td>74234100.0</td>\n",
       "      <td>97</td>\n",
       "      <td>0.850000</td>\n",
       "      <td>Sukhoi Superjet-100</td>\n",
       "      <td>97</td>\n",
       "      <td>1864</td>\n",
       "      <td>1584.400000</td>\n",
       "      <td>41.435</td>\n",
       "      <td>65650.0</td>\n",
       "    </tr>\n",
       "    <tr>\n",
       "      <th>174</th>\n",
       "      <td>136937</td>\n",
       "      <td>Anapa</td>\n",
       "      <td>Belgorod</td>\n",
       "      <td>60731700.0</td>\n",
       "      <td>81</td>\n",
       "      <td>0.833333</td>\n",
       "      <td>Sukhoi Superjet-100</td>\n",
       "      <td>97</td>\n",
       "      <td>1864</td>\n",
       "      <td>1553.333333</td>\n",
       "      <td>41.435</td>\n",
       "      <td>64362.0</td>\n",
       "    </tr>\n",
       "  </tbody>\n",
       "</table>\n",
       "</div>"
      ],
      "text/plain": [
       "     flight_id departure    arrive  flight_revenue  passengers_amount  \\\n",
       "93      136600     Anapa  Belgorod      74234100.0                 97   \n",
       "145     136815     Anapa  Belgorod      74234100.0                 97   \n",
       "179     136961     Anapa  Belgorod      73623000.0                 96   \n",
       "166     136900     Anapa  Belgorod      74234100.0                 97   \n",
       "174     136937     Anapa  Belgorod      60731700.0                 81   \n",
       "\n",
       "     flight_time                model  seats_amount  fuel_per_hour  \\\n",
       "93      0.833333  Sukhoi Superjet-100            97           1864   \n",
       "145     0.850000  Sukhoi Superjet-100            97           1864   \n",
       "179     0.816667  Sukhoi Superjet-100            97           1864   \n",
       "166     0.850000  Sukhoi Superjet-100            97           1864   \n",
       "174     0.833333  Sukhoi Superjet-100            97           1864   \n",
       "\n",
       "     consumed_fuel  fuel_price  spent_for_flight  \n",
       "93     1553.333333      41.435           64362.0  \n",
       "145    1584.400000      41.435           65650.0  \n",
       "179    1522.266667      41.435           63075.0  \n",
       "166    1584.400000      41.435           65650.0  \n",
       "174    1553.333333      41.435           64362.0  "
      ]
     },
     "execution_count": 93,
     "metadata": {},
     "output_type": "execute_result"
    }
   ],
   "source": [
    "df_2.sample(5)"
   ]
  },
  {
   "cell_type": "markdown",
   "metadata": {},
   "source": [
    "#### Рассчитаем ключевые показатели, по которым можно будет определить малоприбыльные рейсы"
   ]
  },
  {
   "cell_type": "code",
   "execution_count": 94,
   "metadata": {},
   "outputs": [
    {
     "name": "stderr",
     "output_type": "stream",
     "text": [
      "<ipython-input-94-8c1cb89ccfba>:2: SettingWithCopyWarning: \n",
      "A value is trying to be set on a copy of a slice from a DataFrame.\n",
      "Try using .loc[row_indexer,col_indexer] = value instead\n",
      "\n",
      "See the caveats in the documentation: https://pandas.pydata.org/pandas-docs/stable/user_guide/indexing.html#returning-a-view-versus-a-copy\n",
      "  df_2['profit'] = df_2['flight_revenue'] - df_2['spent_for_flight']\n"
     ]
    }
   ],
   "source": [
    "# рассчитаем прибыль за рейс\n",
    "df_2['profit'] = df_2['flight_revenue'] - df_2['spent_for_flight']"
   ]
  },
  {
   "cell_type": "code",
   "execution_count": 95,
   "metadata": {},
   "outputs": [
    {
     "name": "stderr",
     "output_type": "stream",
     "text": [
      "<ipython-input-95-4cc726844536>:2: SettingWithCopyWarning: \n",
      "A value is trying to be set on a copy of a slice from a DataFrame.\n",
      "Try using .loc[row_indexer,col_indexer] = value instead\n",
      "\n",
      "See the caveats in the documentation: https://pandas.pydata.org/pandas-docs/stable/user_guide/indexing.html#returning-a-view-versus-a-copy\n",
      "  df_2['load_perc'] = df_2['passengers_amount']/df_2['seats_amount']\n"
     ]
    }
   ],
   "source": [
    "# а так же загрузку рейса\n",
    "df_2['load_perc'] = df_2['passengers_amount']/df_2['seats_amount']"
   ]
  },
  {
   "cell_type": "code",
   "execution_count": 96,
   "metadata": {},
   "outputs": [
    {
     "data": {
      "text/html": [
       "<div>\n",
       "<style scoped>\n",
       "    .dataframe tbody tr th:only-of-type {\n",
       "        vertical-align: middle;\n",
       "    }\n",
       "\n",
       "    .dataframe tbody tr th {\n",
       "        vertical-align: top;\n",
       "    }\n",
       "\n",
       "    .dataframe thead th {\n",
       "        text-align: right;\n",
       "    }\n",
       "</style>\n",
       "<table border=\"1\" class=\"dataframe\">\n",
       "  <thead>\n",
       "    <tr style=\"text-align: right;\">\n",
       "      <th></th>\n",
       "      <th>flight_id</th>\n",
       "      <th>departure</th>\n",
       "      <th>arrive</th>\n",
       "      <th>flight_revenue</th>\n",
       "      <th>passengers_amount</th>\n",
       "      <th>flight_time</th>\n",
       "      <th>model</th>\n",
       "      <th>seats_amount</th>\n",
       "      <th>fuel_per_hour</th>\n",
       "      <th>consumed_fuel</th>\n",
       "      <th>fuel_price</th>\n",
       "      <th>spent_for_flight</th>\n",
       "      <th>profit</th>\n",
       "      <th>load_perc</th>\n",
       "    </tr>\n",
       "  </thead>\n",
       "  <tbody>\n",
       "    <tr>\n",
       "      <th>131</th>\n",
       "      <td>136768</td>\n",
       "      <td>Anapa</td>\n",
       "      <td>Belgorod</td>\n",
       "      <td>74234100.0</td>\n",
       "      <td>97</td>\n",
       "      <td>0.833333</td>\n",
       "      <td>Sukhoi Superjet-100</td>\n",
       "      <td>97</td>\n",
       "      <td>1864</td>\n",
       "      <td>1553.333333</td>\n",
       "      <td>41.435</td>\n",
       "      <td>64362.0</td>\n",
       "      <td>74169738.0</td>\n",
       "      <td>1.000000</td>\n",
       "    </tr>\n",
       "    <tr>\n",
       "      <th>98</th>\n",
       "      <td>136620</td>\n",
       "      <td>Anapa</td>\n",
       "      <td>Belgorod</td>\n",
       "      <td>59509500.0</td>\n",
       "      <td>79</td>\n",
       "      <td>0.816667</td>\n",
       "      <td>Sukhoi Superjet-100</td>\n",
       "      <td>97</td>\n",
       "      <td>1864</td>\n",
       "      <td>1522.266667</td>\n",
       "      <td>41.435</td>\n",
       "      <td>63075.0</td>\n",
       "      <td>59446425.0</td>\n",
       "      <td>0.814433</td>\n",
       "    </tr>\n",
       "    <tr>\n",
       "      <th>173</th>\n",
       "      <td>136936</td>\n",
       "      <td>Anapa</td>\n",
       "      <td>Belgorod</td>\n",
       "      <td>61342800.0</td>\n",
       "      <td>82</td>\n",
       "      <td>0.833333</td>\n",
       "      <td>Sukhoi Superjet-100</td>\n",
       "      <td>97</td>\n",
       "      <td>1864</td>\n",
       "      <td>1553.333333</td>\n",
       "      <td>41.435</td>\n",
       "      <td>64362.0</td>\n",
       "      <td>61278438.0</td>\n",
       "      <td>0.845361</td>\n",
       "    </tr>\n",
       "    <tr>\n",
       "      <th>179</th>\n",
       "      <td>136961</td>\n",
       "      <td>Anapa</td>\n",
       "      <td>Belgorod</td>\n",
       "      <td>73623000.0</td>\n",
       "      <td>96</td>\n",
       "      <td>0.816667</td>\n",
       "      <td>Sukhoi Superjet-100</td>\n",
       "      <td>97</td>\n",
       "      <td>1864</td>\n",
       "      <td>1522.266667</td>\n",
       "      <td>41.435</td>\n",
       "      <td>63075.0</td>\n",
       "      <td>73559925.0</td>\n",
       "      <td>0.989691</td>\n",
       "    </tr>\n",
       "    <tr>\n",
       "      <th>111</th>\n",
       "      <td>136672</td>\n",
       "      <td>Anapa</td>\n",
       "      <td>Belgorod</td>\n",
       "      <td>73623000.0</td>\n",
       "      <td>96</td>\n",
       "      <td>0.833333</td>\n",
       "      <td>Sukhoi Superjet-100</td>\n",
       "      <td>97</td>\n",
       "      <td>1864</td>\n",
       "      <td>1553.333333</td>\n",
       "      <td>41.435</td>\n",
       "      <td>64362.0</td>\n",
       "      <td>73558638.0</td>\n",
       "      <td>0.989691</td>\n",
       "    </tr>\n",
       "  </tbody>\n",
       "</table>\n",
       "</div>"
      ],
      "text/plain": [
       "     flight_id departure    arrive  flight_revenue  passengers_amount  \\\n",
       "131     136768     Anapa  Belgorod      74234100.0                 97   \n",
       "98      136620     Anapa  Belgorod      59509500.0                 79   \n",
       "173     136936     Anapa  Belgorod      61342800.0                 82   \n",
       "179     136961     Anapa  Belgorod      73623000.0                 96   \n",
       "111     136672     Anapa  Belgorod      73623000.0                 96   \n",
       "\n",
       "     flight_time                model  seats_amount  fuel_per_hour  \\\n",
       "131     0.833333  Sukhoi Superjet-100            97           1864   \n",
       "98      0.816667  Sukhoi Superjet-100            97           1864   \n",
       "173     0.833333  Sukhoi Superjet-100            97           1864   \n",
       "179     0.816667  Sukhoi Superjet-100            97           1864   \n",
       "111     0.833333  Sukhoi Superjet-100            97           1864   \n",
       "\n",
       "     consumed_fuel  fuel_price  spent_for_flight      profit  load_perc  \n",
       "131    1553.333333      41.435           64362.0  74169738.0   1.000000  \n",
       "98     1522.266667      41.435           63075.0  59446425.0   0.814433  \n",
       "173    1553.333333      41.435           64362.0  61278438.0   0.845361  \n",
       "179    1522.266667      41.435           63075.0  73559925.0   0.989691  \n",
       "111    1553.333333      41.435           64362.0  73558638.0   0.989691  "
      ]
     },
     "execution_count": 96,
     "metadata": {},
     "output_type": "execute_result"
    }
   ],
   "source": [
    "df_2.sample(5)"
   ]
  },
  {
   "cell_type": "markdown",
   "metadata": {},
   "source": [
    "#### Посмотрим на полученные показатели"
   ]
  },
  {
   "cell_type": "code",
   "execution_count": 97,
   "metadata": {},
   "outputs": [
    {
     "data": {
      "text/plain": [
       "<AxesSubplot:>"
      ]
     },
     "execution_count": 97,
     "metadata": {},
     "output_type": "execute_result"
    },
    {
     "data": {
      "image/png": "[encoded data removed]",
      "text/plain": [
       "<Figure size 432x288 with 1 Axes>"
      ]
     },
     "metadata": {
      "needs_background": "light"
     },
     "output_type": "display_data"
    }
   ],
   "source": [
    "df_2.profit.hist(bins=15)"
   ]
  },
  {
   "cell_type": "code",
   "execution_count": 98,
   "metadata": {},
   "outputs": [
    {
     "data": {
      "text/plain": [
       "<AxesSubplot:>"
      ]
     },
     "execution_count": 98,
     "metadata": {},
     "output_type": "execute_result"
    },
    {
     "data": {
      "image/png": "[encoded data removed]",
      "text/plain": [
       "<Figure size 432x288 with 1 Axes>"
      ]
     },
     "metadata": {
      "needs_background": "light"
     },
     "output_type": "display_data"
    }
   ],
   "source": [
    "df_1.load_perc.hist()"
   ]
  },
  {
   "cell_type": "code",
   "execution_count": 102,
   "metadata": {},
   "outputs": [
    {
     "data": {
      "text/html": [
       "<div>\n",
       "<style scoped>\n",
       "    .dataframe tbody tr th:only-of-type {\n",
       "        vertical-align: middle;\n",
       "    }\n",
       "\n",
       "    .dataframe tbody tr th {\n",
       "        vertical-align: top;\n",
       "    }\n",
       "\n",
       "    .dataframe thead th {\n",
       "        text-align: right;\n",
       "    }\n",
       "</style>\n",
       "<table border=\"1\" class=\"dataframe\">\n",
       "  <thead>\n",
       "    <tr style=\"text-align: right;\">\n",
       "      <th></th>\n",
       "      <th>flight_id</th>\n",
       "      <th>departure</th>\n",
       "      <th>arrive</th>\n",
       "      <th>flight_revenue</th>\n",
       "      <th>passengers_amount</th>\n",
       "      <th>flight_time</th>\n",
       "      <th>model</th>\n",
       "      <th>seats_amount</th>\n",
       "      <th>fuel_per_hour</th>\n",
       "      <th>consumed_fuel</th>\n",
       "      <th>fuel_price</th>\n",
       "      <th>spent_for_flight</th>\n",
       "      <th>profit</th>\n",
       "      <th>load_perc</th>\n",
       "    </tr>\n",
       "  </thead>\n",
       "  <tbody>\n",
       "    <tr>\n",
       "      <th>98</th>\n",
       "      <td>136620</td>\n",
       "      <td>Anapa</td>\n",
       "      <td>Belgorod</td>\n",
       "      <td>59509500.0</td>\n",
       "      <td>79</td>\n",
       "      <td>0.816667</td>\n",
       "      <td>Sukhoi Superjet-100</td>\n",
       "      <td>97</td>\n",
       "      <td>1864</td>\n",
       "      <td>1522.266667</td>\n",
       "      <td>41.435</td>\n",
       "      <td>63075.0</td>\n",
       "      <td>59446425.0</td>\n",
       "      <td>0.814433</td>\n",
       "    </tr>\n",
       "    <tr>\n",
       "      <th>102</th>\n",
       "      <td>136642</td>\n",
       "      <td>Anapa</td>\n",
       "      <td>Belgorod</td>\n",
       "      <td>51507000.0</td>\n",
       "      <td>64</td>\n",
       "      <td>0.816667</td>\n",
       "      <td>Sukhoi Superjet-100</td>\n",
       "      <td>97</td>\n",
       "      <td>1864</td>\n",
       "      <td>1522.266667</td>\n",
       "      <td>41.435</td>\n",
       "      <td>63075.0</td>\n",
       "      <td>51443925.0</td>\n",
       "      <td>0.659794</td>\n",
       "    </tr>\n",
       "    <tr>\n",
       "      <th>144</th>\n",
       "      <td>136807</td>\n",
       "      <td>Anapa</td>\n",
       "      <td>Belgorod</td>\n",
       "      <td>51507000.0</td>\n",
       "      <td>68</td>\n",
       "      <td>0.833333</td>\n",
       "      <td>Sukhoi Superjet-100</td>\n",
       "      <td>97</td>\n",
       "      <td>1864</td>\n",
       "      <td>1553.333333</td>\n",
       "      <td>41.435</td>\n",
       "      <td>64362.0</td>\n",
       "      <td>51442638.0</td>\n",
       "      <td>0.701031</td>\n",
       "    </tr>\n",
       "    <tr>\n",
       "      <th>152</th>\n",
       "      <td>136844</td>\n",
       "      <td>Anapa</td>\n",
       "      <td>Belgorod</td>\n",
       "      <td>55784700.0</td>\n",
       "      <td>79</td>\n",
       "      <td>0.833333</td>\n",
       "      <td>Sukhoi Superjet-100</td>\n",
       "      <td>97</td>\n",
       "      <td>1864</td>\n",
       "      <td>1553.333333</td>\n",
       "      <td>41.435</td>\n",
       "      <td>64362.0</td>\n",
       "      <td>55720338.0</td>\n",
       "      <td>0.814433</td>\n",
       "    </tr>\n",
       "    <tr>\n",
       "      <th>164</th>\n",
       "      <td>136887</td>\n",
       "      <td>Anapa</td>\n",
       "      <td>Belgorod</td>\n",
       "      <td>57734400.0</td>\n",
       "      <td>78</td>\n",
       "      <td>0.816667</td>\n",
       "      <td>Sukhoi Superjet-100</td>\n",
       "      <td>97</td>\n",
       "      <td>1864</td>\n",
       "      <td>1522.266667</td>\n",
       "      <td>41.435</td>\n",
       "      <td>63075.0</td>\n",
       "      <td>57671325.0</td>\n",
       "      <td>0.804124</td>\n",
       "    </tr>\n",
       "    <tr>\n",
       "      <th>170</th>\n",
       "      <td>136922</td>\n",
       "      <td>Anapa</td>\n",
       "      <td>Belgorod</td>\n",
       "      <td>58956600.0</td>\n",
       "      <td>76</td>\n",
       "      <td>0.833333</td>\n",
       "      <td>Sukhoi Superjet-100</td>\n",
       "      <td>97</td>\n",
       "      <td>1864</td>\n",
       "      <td>1553.333333</td>\n",
       "      <td>41.435</td>\n",
       "      <td>64362.0</td>\n",
       "      <td>58892238.0</td>\n",
       "      <td>0.783505</td>\n",
       "    </tr>\n",
       "  </tbody>\n",
       "</table>\n",
       "</div>"
      ],
      "text/plain": [
       "     flight_id departure    arrive  flight_revenue  passengers_amount  \\\n",
       "98      136620     Anapa  Belgorod      59509500.0                 79   \n",
       "102     136642     Anapa  Belgorod      51507000.0                 64   \n",
       "144     136807     Anapa  Belgorod      51507000.0                 68   \n",
       "152     136844     Anapa  Belgorod      55784700.0                 79   \n",
       "164     136887     Anapa  Belgorod      57734400.0                 78   \n",
       "170     136922     Anapa  Belgorod      58956600.0                 76   \n",
       "\n",
       "     flight_time                model  seats_amount  fuel_per_hour  \\\n",
       "98      0.816667  Sukhoi Superjet-100            97           1864   \n",
       "102     0.816667  Sukhoi Superjet-100            97           1864   \n",
       "144     0.833333  Sukhoi Superjet-100            97           1864   \n",
       "152     0.833333  Sukhoi Superjet-100            97           1864   \n",
       "164     0.816667  Sukhoi Superjet-100            97           1864   \n",
       "170     0.833333  Sukhoi Superjet-100            97           1864   \n",
       "\n",
       "     consumed_fuel  fuel_price  spent_for_flight      profit  load_perc  \n",
       "98     1522.266667      41.435           63075.0  59446425.0   0.814433  \n",
       "102    1522.266667      41.435           63075.0  51443925.0   0.659794  \n",
       "144    1553.333333      41.435           64362.0  51442638.0   0.701031  \n",
       "152    1553.333333      41.435           64362.0  55720338.0   0.814433  \n",
       "164    1522.266667      41.435           63075.0  57671325.0   0.804124  \n",
       "170    1553.333333      41.435           64362.0  58892238.0   0.783505  "
      ]
     },
     "execution_count": 102,
     "metadata": {},
     "output_type": "execute_result"
    }
   ],
   "source": [
    "df_2.query('profit<60000000')"
   ]
  },
  {
   "cell_type": "code",
   "execution_count": 103,
   "metadata": {},
   "outputs": [
    {
     "data": {
      "text/html": [
       "<div>\n",
       "<style scoped>\n",
       "    .dataframe tbody tr th:only-of-type {\n",
       "        vertical-align: middle;\n",
       "    }\n",
       "\n",
       "    .dataframe tbody tr th {\n",
       "        vertical-align: top;\n",
       "    }\n",
       "\n",
       "    .dataframe thead th {\n",
       "        text-align: right;\n",
       "    }\n",
       "</style>\n",
       "<table border=\"1\" class=\"dataframe\">\n",
       "  <thead>\n",
       "    <tr style=\"text-align: right;\">\n",
       "      <th></th>\n",
       "      <th>flight_id</th>\n",
       "      <th>departure</th>\n",
       "      <th>arrive</th>\n",
       "      <th>flight_revenue</th>\n",
       "      <th>passengers_amount</th>\n",
       "      <th>flight_time</th>\n",
       "      <th>model</th>\n",
       "      <th>seats_amount</th>\n",
       "      <th>fuel_per_hour</th>\n",
       "      <th>consumed_fuel</th>\n",
       "      <th>fuel_price</th>\n",
       "      <th>spent_for_flight</th>\n",
       "      <th>profit</th>\n",
       "      <th>load_perc</th>\n",
       "    </tr>\n",
       "  </thead>\n",
       "  <tbody>\n",
       "    <tr>\n",
       "      <th>102</th>\n",
       "      <td>136642</td>\n",
       "      <td>Anapa</td>\n",
       "      <td>Belgorod</td>\n",
       "      <td>51507000.0</td>\n",
       "      <td>64</td>\n",
       "      <td>0.816667</td>\n",
       "      <td>Sukhoi Superjet-100</td>\n",
       "      <td>97</td>\n",
       "      <td>1864</td>\n",
       "      <td>1522.266667</td>\n",
       "      <td>41.435</td>\n",
       "      <td>63075.0</td>\n",
       "      <td>51443925.0</td>\n",
       "      <td>0.659794</td>\n",
       "    </tr>\n",
       "    <tr>\n",
       "      <th>144</th>\n",
       "      <td>136807</td>\n",
       "      <td>Anapa</td>\n",
       "      <td>Belgorod</td>\n",
       "      <td>51507000.0</td>\n",
       "      <td>68</td>\n",
       "      <td>0.833333</td>\n",
       "      <td>Sukhoi Superjet-100</td>\n",
       "      <td>97</td>\n",
       "      <td>1864</td>\n",
       "      <td>1553.333333</td>\n",
       "      <td>41.435</td>\n",
       "      <td>64362.0</td>\n",
       "      <td>51442638.0</td>\n",
       "      <td>0.701031</td>\n",
       "    </tr>\n",
       "  </tbody>\n",
       "</table>\n",
       "</div>"
      ],
      "text/plain": [
       "     flight_id departure    arrive  flight_revenue  passengers_amount  \\\n",
       "102     136642     Anapa  Belgorod      51507000.0                 64   \n",
       "144     136807     Anapa  Belgorod      51507000.0                 68   \n",
       "\n",
       "     flight_time                model  seats_amount  fuel_per_hour  \\\n",
       "102     0.816667  Sukhoi Superjet-100            97           1864   \n",
       "144     0.833333  Sukhoi Superjet-100            97           1864   \n",
       "\n",
       "     consumed_fuel  fuel_price  spent_for_flight      profit  load_perc  \n",
       "102    1522.266667      41.435           63075.0  51443925.0   0.659794  \n",
       "144    1553.333333      41.435           64362.0  51442638.0   0.701031  "
      ]
     },
     "execution_count": 103,
     "metadata": {},
     "output_type": "execute_result"
    }
   ],
   "source": [
    "df_2.query('load_perc<0.75')"
   ]
  },
  {
   "cell_type": "markdown",
   "metadata": {},
   "source": [
    "## Выводы"
   ]
  },
  {
   "cell_type": "markdown",
   "metadata": {},
   "source": [
    "Таким образом, рейсы, от которых можно отказаться в зимний период, лучше выбрать по совпадению среди низкоприбыльных и малопосещяемых."
   ]
  }
 ],
 "metadata": {
  "kernelspec": {
   "display_name": "Python 3",
   "language": "python",
   "name": "python3"
  },
  "language_info": {
   "codemirror_mode": {
    "name": "ipython",
    "version": 3
   },
   "file_extension": ".py",
   "mimetype": "text/x-python",
   "name": "python",
   "nbconvert_exporter": "python",
   "pygments_lexer": "ipython3",
   "version": "3.8.5"
  }
 },
 "nbformat": 4,
 "nbformat_minor": 4
}
